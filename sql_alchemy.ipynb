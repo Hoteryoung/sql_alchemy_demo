{
 "cells": [
  {
   "cell_type": "code",
   "execution_count": 2,
   "metadata": {},
   "outputs": [],
   "source": [
    "from sqlalchemy import create_engine\n",
    "\n",
    "engine = create_engine(\"sqlite+pysqlite:///:memory:\", echo=True)"
   ]
  },
  {
   "cell_type": "code",
   "execution_count": 2,
   "metadata": {},
   "outputs": [
    {
     "name": "stdout",
     "output_type": "stream",
     "text": [
      "2023-06-21 16:20:37,311 INFO sqlalchemy.engine.Engine BEGIN (implicit)\n",
      "2023-06-21 16:20:37,311 INFO sqlalchemy.engine.Engine select 'hello world'\n",
      "2023-06-21 16:20:37,312 INFO sqlalchemy.engine.Engine [generated in 0.00119s] ()\n",
      "[('hello world',)]\n",
      "2023-06-21 16:20:37,312 INFO sqlalchemy.engine.Engine ROLLBACK\n"
     ]
    }
   ],
   "source": [
    "from sqlalchemy import text\n",
    "\n",
    "with engine.connect() as conn:\n",
    "    result = conn.execute(text(\"select 'hello world'\"))\n",
    "    print(result.all())\n"
   ]
  },
  {
   "cell_type": "code",
   "execution_count": 4,
   "metadata": {},
   "outputs": [
    {
     "name": "stdout",
     "output_type": "stream",
     "text": [
      "2023-06-21 16:21:00,571 INFO sqlalchemy.engine.Engine BEGIN (implicit)\n",
      "2023-06-21 16:21:00,573 INFO sqlalchemy.engine.Engine CREATE TABLE some_table (x int, y int)\n",
      "2023-06-21 16:21:00,573 INFO sqlalchemy.engine.Engine [generated in 0.00164s] ()\n",
      "2023-06-21 16:21:00,574 INFO sqlalchemy.engine.Engine INSERT INTO some_table (x, y) VALUES (?, ?)\n",
      "2023-06-21 16:21:00,574 INFO sqlalchemy.engine.Engine [cached since 18.43s ago] [(1, 1), (2, 4)]\n",
      "2023-06-21 16:21:00,574 INFO sqlalchemy.engine.Engine COMMIT\n"
     ]
    }
   ],
   "source": [
    "with engine.connect() as conn:\n",
    "    conn.execute(text(\"CREATE TABLE some_table (x int, y int)\"))\n",
    "    conn.execute(\n",
    "        text(\"INSERT INTO some_table (x, y) VALUES (:x, :y)\"),\n",
    "        [{\"x\": 1, \"y\": 1}, {\"x\": 2, \"y\": 4}],\n",
    "    )\n",
    "    conn.commit()"
   ]
  },
  {
   "cell_type": "code",
   "execution_count": 11,
   "metadata": {},
   "outputs": [
    {
     "name": "stdout",
     "output_type": "stream",
     "text": [
      "2023-06-21 17:16:33,219 INFO sqlalchemy.engine.Engine BEGIN (implicit)\n",
      "2023-06-21 17:16:33,219 INFO sqlalchemy.engine.Engine INSERT INTO some_table (x, y) VALUES(?, ?)\n",
      "2023-06-21 17:16:33,220 INFO sqlalchemy.engine.Engine [cached since 3063s ago] [(6, 8), (9, 10)]\n",
      "2023-06-21 17:16:33,220 INFO sqlalchemy.engine.Engine COMMIT\n"
     ]
    }
   ],
   "source": [
    "with engine.begin() as conn:\n",
    "    conn.execute(\n",
    "        text(\"INSERT INTO some_table (x, y) VALUES(:x, :y)\"),\n",
    "        [{\"x\": 6, \"y\": 8}, {\"x\": 9, \"y\": 10}],\n",
    "    )"
   ]
  },
  {
   "cell_type": "code",
   "execution_count": 9,
   "metadata": {},
   "outputs": [
    {
     "name": "stdout",
     "output_type": "stream",
     "text": [
      "2023-06-21 16:28:33,831 INFO sqlalchemy.engine.Engine BEGIN (implicit)\n",
      "2023-06-21 16:28:33,832 INFO sqlalchemy.engine.Engine SELECT x, y FROM some_table\n",
      "2023-06-21 16:28:33,832 INFO sqlalchemy.engine.Engine [cached since 21.18s ago] ()\n",
      "x: 1, y: 1\n",
      "x: 2, y: 4\n",
      "x: 6, y: 8\n",
      "x: 9, y: 10\n",
      "2023-06-21 16:28:33,833 INFO sqlalchemy.engine.Engine ROLLBACK\n"
     ]
    }
   ],
   "source": [
    "with engine.connect() as conn:\n",
    "    result = conn.execute(text(\"SELECT x, y FROM some_table\"))\n",
    "    for row in result:\n",
    "        print(f\"x: {row.x}, y: {row.y}\")"
   ]
  },
  {
   "cell_type": "code",
   "execution_count": 15,
   "metadata": {},
   "outputs": [
    {
     "name": "stdout",
     "output_type": "stream",
     "text": [
      "2023-06-21 17:26:30,208 INFO sqlalchemy.engine.Engine BEGIN (implicit)\n",
      "2023-06-21 17:26:30,209 INFO sqlalchemy.engine.Engine SELECT x, y FROM some_table where y > ?\n",
      "2023-06-21 17:26:30,209 INFO sqlalchemy.engine.Engine [cached since 541.6s ago] (2,)\n",
      "x: 2, y: 4\n",
      "x: 6, y: 8\n",
      "x: 9, y: 11\n",
      "x: 6, y: 8\n",
      "x: 9, y: 11\n",
      "2023-06-21 17:26:30,211 INFO sqlalchemy.engine.Engine ROLLBACK\n"
     ]
    }
   ],
   "source": [
    "with engine.connect() as conn:\n",
    "    result = conn.execute(text(\"SELECT x, y FROM some_table where y > :y\"), {\"y\": 2})\n",
    "    for row in result:\n",
    "        print(f\"x: {row.x}, y: {row.y}\")"
   ]
  },
  {
   "cell_type": "code",
   "execution_count": 14,
   "metadata": {},
   "outputs": [
    {
     "name": "stdout",
     "output_type": "stream",
     "text": [
      "2023-06-21 17:26:25,170 INFO sqlalchemy.engine.Engine BEGIN (implicit)\n",
      "2023-06-21 17:26:25,171 INFO sqlalchemy.engine.Engine UPDATE some_table SET y=? WHERE x=?\n",
      "2023-06-21 17:26:25,172 INFO sqlalchemy.engine.Engine [generated in 0.00075s] [(11, 9), (15, 13)]\n",
      "2023-06-21 17:26:25,172 INFO sqlalchemy.engine.Engine COMMIT\n"
     ]
    }
   ],
   "source": [
    "from sqlalchemy.orm import Session\n",
    "with Session(engine.connect()) as sess:\n",
    "    result = sess.execute(\n",
    "        text(\"UPDATE some_table SET y=:y WHERE x=:x\"),\n",
    "        [{\"x\": 9, \"y\": 11}, {\"x\": 13, \"y\": 15}]\n",
    "    )\n",
    "    sess.commit()"
   ]
  },
  {
   "cell_type": "code",
   "execution_count": 3,
   "metadata": {},
   "outputs": [],
   "source": [
    "from sqlalchemy import MetaData\n",
    "metadata_obj = MetaData()"
   ]
  },
  {
   "cell_type": "code",
   "execution_count": 4,
   "metadata": {},
   "outputs": [],
   "source": [
    "from sqlalchemy import Table, Column, String, Integer\n",
    "\n",
    "user_table = Table(\n",
    "    \"user_account\",\n",
    "    metadata_obj,\n",
    "    Column(\"id\", Integer, primary_key=True),\n",
    "    Column(\"name\", String(30)),\n",
    "    Column(\"fullname\", String),\n",
    ")"
   ]
  },
  {
   "cell_type": "code",
   "execution_count": 8,
   "metadata": {},
   "outputs": [
    {
     "data": {
      "text/plain": [
       "PrimaryKeyConstraint(Column('id', Integer(), table=<user_account>, primary_key=True, nullable=False))"
      ]
     },
     "execution_count": 8,
     "metadata": {},
     "output_type": "execute_result"
    }
   ],
   "source": [
    "user_table.c.name\n",
    "user_table.c.keys()\n",
    "user_table.primary_key"
   ]
  },
  {
   "cell_type": "code",
   "execution_count": 11,
   "metadata": {},
   "outputs": [],
   "source": [
    "from sqlalchemy import ForeignKey\n",
    "address_table = Table(\n",
    "    \"address\",\n",
    "    metadata_obj,\n",
    "    Column(\"id\", Integer, primary_key=True),\n",
    "    Column(\"user_id\", ForeignKey(\"user_account.id\"), nullable=False),\n",
    "    Column(\"email_address\", String, nullable=False),\n",
    ")"
   ]
  },
  {
   "cell_type": "code",
   "execution_count": 14,
   "metadata": {},
   "outputs": [
    {
     "name": "stdout",
     "output_type": "stream",
     "text": [
      "2023-06-23 16:02:33,732 INFO sqlalchemy.engine.Engine BEGIN (implicit)\n",
      "2023-06-23 16:02:33,732 INFO sqlalchemy.engine.Engine PRAGMA main.table_info(\"user_account\")\n",
      "2023-06-23 16:02:33,733 INFO sqlalchemy.engine.Engine [raw sql] ()\n",
      "2023-06-23 16:02:33,734 INFO sqlalchemy.engine.Engine PRAGMA temp.table_info(\"user_account\")\n",
      "2023-06-23 16:02:33,734 INFO sqlalchemy.engine.Engine [raw sql] ()\n",
      "2023-06-23 16:02:33,735 INFO sqlalchemy.engine.Engine PRAGMA main.table_info(\"address\")\n",
      "2023-06-23 16:02:33,735 INFO sqlalchemy.engine.Engine [raw sql] ()\n",
      "2023-06-23 16:02:33,736 INFO sqlalchemy.engine.Engine PRAGMA temp.table_info(\"address\")\n",
      "2023-06-23 16:02:33,736 INFO sqlalchemy.engine.Engine [raw sql] ()\n",
      "2023-06-23 16:02:33,737 INFO sqlalchemy.engine.Engine \n",
      "CREATE TABLE user_account (\n",
      "\tid INTEGER NOT NULL, \n",
      "\tname VARCHAR(30), \n",
      "\tfullname VARCHAR, \n",
      "\tPRIMARY KEY (id)\n",
      ")\n",
      "\n",
      "\n",
      "2023-06-23 16:02:33,738 INFO sqlalchemy.engine.Engine [no key 0.00072s] ()\n",
      "2023-06-23 16:02:33,739 INFO sqlalchemy.engine.Engine \n",
      "CREATE TABLE address (\n",
      "\tid INTEGER NOT NULL, \n",
      "\tuser_id INTEGER NOT NULL, \n",
      "\temail_address VARCHAR NOT NULL, \n",
      "\tPRIMARY KEY (id), \n",
      "\tFOREIGN KEY(user_id) REFERENCES user_account (id)\n",
      ")\n",
      "\n",
      "\n",
      "2023-06-23 16:02:33,739 INFO sqlalchemy.engine.Engine [no key 0.00035s] ()\n",
      "2023-06-23 16:02:33,740 INFO sqlalchemy.engine.Engine COMMIT\n"
     ]
    }
   ],
   "source": [
    "metadata_obj.create_all(engine)"
   ]
  },
  {
   "cell_type": "code",
   "execution_count": 1,
   "metadata": {},
   "outputs": [
    {
     "data": {
      "text/plain": [
       "MetaData()"
      ]
     },
     "execution_count": 1,
     "metadata": {},
     "output_type": "execute_result"
    }
   ],
   "source": [
    "from sqlalchemy.orm import DeclarativeBase\n",
    "\n",
    "class Base(DeclarativeBase):\n",
    "    pass\n",
    "\n",
    "Base.metadata"
   ]
  },
  {
   "cell_type": "code",
   "execution_count": 5,
   "metadata": {},
   "outputs": [
    {
     "ename": "TypeError",
     "evalue": "'type' object does not support item assignment",
     "output_type": "error",
     "traceback": [
      "\u001b[0;31m---------------------------------------------------------------------------\u001b[0m",
      "\u001b[0;31mTypeError\u001b[0m                                 Traceback (most recent call last)",
      "\u001b[0;32m/tmp/ipykernel_13322/1531535674.py\u001b[0m in \u001b[0;36m<module>\u001b[0;34m\u001b[0m\n\u001b[1;32m      3\u001b[0m \u001b[0;32mfrom\u001b[0m \u001b[0msqlalchemy\u001b[0m \u001b[0;32mimport\u001b[0m \u001b[0mString\u001b[0m\u001b[0;34m\u001b[0m\u001b[0;34m\u001b[0m\u001b[0m\n\u001b[1;32m      4\u001b[0m \u001b[0;34m\u001b[0m\u001b[0m\n\u001b[0;32m----> 5\u001b[0;31m \u001b[0;32mclass\u001b[0m \u001b[0mUser\u001b[0m\u001b[0;34m(\u001b[0m\u001b[0mBase\u001b[0m\u001b[0;34m)\u001b[0m\u001b[0;34m:\u001b[0m\u001b[0;34m\u001b[0m\u001b[0;34m\u001b[0m\u001b[0m\n\u001b[0m\u001b[1;32m      6\u001b[0m     \u001b[0m__tablename__\u001b[0m \u001b[0;34m=\u001b[0m \u001b[0;34m\"orm_user_account\"\u001b[0m\u001b[0;34m\u001b[0m\u001b[0;34m\u001b[0m\u001b[0m\n\u001b[1;32m      7\u001b[0m     \u001b[0mid\u001b[0m\u001b[0;34m:\u001b[0m \u001b[0mMapped\u001b[0m\u001b[0;34m[\u001b[0m\u001b[0mint\u001b[0m\u001b[0;34m]\u001b[0m \u001b[0;34m=\u001b[0m \u001b[0mmapped_column\u001b[0m\u001b[0;34m(\u001b[0m\u001b[0mprimary_key\u001b[0m\u001b[0;34m=\u001b[0m\u001b[0;32mTrue\u001b[0m\u001b[0;34m)\u001b[0m\u001b[0;34m\u001b[0m\u001b[0;34m\u001b[0m\u001b[0m\n",
      "\u001b[0;32m/tmp/ipykernel_13322/1531535674.py\u001b[0m in \u001b[0;36mUser\u001b[0;34m()\u001b[0m\n\u001b[1;32m      9\u001b[0m     \u001b[0mfullname\u001b[0m\u001b[0;34m:\u001b[0m \u001b[0mMapped\u001b[0m\u001b[0;34m[\u001b[0m\u001b[0mOptional\u001b[0m\u001b[0;34m[\u001b[0m\u001b[0mstr\u001b[0m\u001b[0;34m]\u001b[0m\u001b[0;34m]\u001b[0m \u001b[0;34m=\u001b[0m \u001b[0mmapped_column\u001b[0m\u001b[0;34m(\u001b[0m\u001b[0mString\u001b[0m\u001b[0;34m)\u001b[0m\u001b[0;34m\u001b[0m\u001b[0;34m\u001b[0m\u001b[0m\n\u001b[1;32m     10\u001b[0m \u001b[0;34m\u001b[0m\u001b[0m\n\u001b[0;32m---> 11\u001b[0;31m     \u001b[0maddresses\u001b[0m \u001b[0;34m=\u001b[0m \u001b[0mMapped\u001b[0m\u001b[0;34m[\u001b[0m\u001b[0mList\u001b[0m\u001b[0;34m[\u001b[0m\u001b[0mstr\u001b[0m\u001b[0;34m]\u001b[0m\u001b[0;34m]\u001b[0m \u001b[0;34m=\u001b[0m \u001b[0mrelationship\u001b[0m\u001b[0;34m(\u001b[0m\u001b[0mback_populates\u001b[0m\u001b[0;34m=\u001b[0m\u001b[0;34m\"user\"\u001b[0m\u001b[0;34m)\u001b[0m\u001b[0;34m\u001b[0m\u001b[0;34m\u001b[0m\u001b[0m\n\u001b[0m\u001b[1;32m     12\u001b[0m \u001b[0;34m\u001b[0m\u001b[0m\n\u001b[1;32m     13\u001b[0m     \u001b[0;32mdef\u001b[0m \u001b[0m__repr__\u001b[0m\u001b[0;34m(\u001b[0m\u001b[0mself\u001b[0m\u001b[0;34m)\u001b[0m \u001b[0;34m->\u001b[0m \u001b[0mstr\u001b[0m\u001b[0;34m:\u001b[0m\u001b[0;34m\u001b[0m\u001b[0;34m\u001b[0m\u001b[0m\n",
      "\u001b[0;31mTypeError\u001b[0m: 'type' object does not support item assignment"
     ]
    }
   ],
   "source": [
    "from typing import List, Optional\n",
    "from sqlalchemy.orm import Mapped, mapped_column, relationship\n",
    "from sqlalchemy import String\n",
    "\n",
    "class User(Base):\n",
    "    __tablename__ = \"orm_user_account\"\n",
    "    id: Mapped[int] = mapped_column(primary_key=True)\n",
    "    name: Mapped[str] = mapped_column(String(30))\n",
    "    fullname: Mapped[Optional[str]] = mapped_column(String)\n",
    "\n",
    "    addresses: Mapped[List[str]] = relationship(back_populates=\"user\")\n",
    "\n",
    "    def __repr__(self) -> str:\n",
    "        return f\"User(id={self.id!r}, name={self.name!r}, fullname={self.fullname!r})\"\n",
    "\n",
    "        \n",
    "class Address(Base):\n",
    "    __tablename__ = \"orm_address\"\n",
    "    \n",
    "    id: Mapped[int] = mapped_column(primary_key=True)\n",
    "    email_address: Mapped[str]\n",
    "    user_id = mapped_column(ForeignKey(\"user_account.id\"))\n",
    "\n",
    "    user: Mapped[User] = relationship(back_populates=\"addresses\")\n",
    "\n",
    "    def __repr__(self) -> str:\n",
    "        return f\"Address(id={self.id!r}, email_address={self.email_address!r})\""
   ]
  },
  {
   "cell_type": "code",
   "execution_count": null,
   "metadata": {},
   "outputs": [],
   "source": [
    "Base.metadata.create_all(engine)"
   ]
  }
 ],
 "metadata": {
  "kernelspec": {
   "display_name": "base",
   "language": "python",
   "name": "python3"
  },
  "language_info": {
   "codemirror_mode": {
    "name": "ipython",
    "version": 3
   },
   "file_extension": ".py",
   "mimetype": "text/x-python",
   "name": "python",
   "nbconvert_exporter": "python",
   "pygments_lexer": "ipython3",
   "version": "3.9.13"
  },
  "orig_nbformat": 4
 },
 "nbformat": 4,
 "nbformat_minor": 2
}
