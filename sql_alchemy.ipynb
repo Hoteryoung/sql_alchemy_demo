{
 "cells": [
  {
   "cell_type": "code",
   "execution_count": 1,
   "metadata": {},
   "outputs": [],
   "source": [
    "from sqlalchemy import create_engine\n",
    "\n",
    "engine = create_engine(\"sqlite+pysqlite:///:memory:\", echo=True)"
   ]
  },
  {
   "cell_type": "code",
   "execution_count": 2,
   "metadata": {},
   "outputs": [
    {
     "name": "stdout",
     "output_type": "stream",
     "text": [
      "2023-06-21 16:20:37,311 INFO sqlalchemy.engine.Engine BEGIN (implicit)\n",
      "2023-06-21 16:20:37,311 INFO sqlalchemy.engine.Engine select 'hello world'\n",
      "2023-06-21 16:20:37,312 INFO sqlalchemy.engine.Engine [generated in 0.00119s] ()\n",
      "[('hello world',)]\n",
      "2023-06-21 16:20:37,312 INFO sqlalchemy.engine.Engine ROLLBACK\n"
     ]
    }
   ],
   "source": [
    "from sqlalchemy import text\n",
    "\n",
    "with engine.connect() as conn:\n",
    "    result = conn.execute(text(\"select 'hello world'\"))\n",
    "    print(result.all())\n"
   ]
  },
  {
   "cell_type": "code",
   "execution_count": 4,
   "metadata": {},
   "outputs": [
    {
     "name": "stdout",
     "output_type": "stream",
     "text": [
      "2023-06-21 16:21:00,571 INFO sqlalchemy.engine.Engine BEGIN (implicit)\n",
      "2023-06-21 16:21:00,573 INFO sqlalchemy.engine.Engine CREATE TABLE some_table (x int, y int)\n",
      "2023-06-21 16:21:00,573 INFO sqlalchemy.engine.Engine [generated in 0.00164s] ()\n",
      "2023-06-21 16:21:00,574 INFO sqlalchemy.engine.Engine INSERT INTO some_table (x, y) VALUES (?, ?)\n",
      "2023-06-21 16:21:00,574 INFO sqlalchemy.engine.Engine [cached since 18.43s ago] [(1, 1), (2, 4)]\n",
      "2023-06-21 16:21:00,574 INFO sqlalchemy.engine.Engine COMMIT\n"
     ]
    }
   ],
   "source": [
    "with engine.connect() as conn:\n",
    "    conn.execute(text(\"CREATE TABLE some_table (x int, y int)\"))\n",
    "    conn.execute(\n",
    "        text(\"INSERT INTO some_table (x, y) VALUES (:x, :y)\"),\n",
    "        [{\"x\": 1, \"y\": 1}, {\"x\": 2, \"y\": 4}],\n",
    "    )\n",
    "    conn.commit()"
   ]
  },
  {
   "cell_type": "code",
   "execution_count": 11,
   "metadata": {},
   "outputs": [
    {
     "name": "stdout",
     "output_type": "stream",
     "text": [
      "2023-06-21 17:16:33,219 INFO sqlalchemy.engine.Engine BEGIN (implicit)\n",
      "2023-06-21 17:16:33,219 INFO sqlalchemy.engine.Engine INSERT INTO some_table (x, y) VALUES(?, ?)\n",
      "2023-06-21 17:16:33,220 INFO sqlalchemy.engine.Engine [cached since 3063s ago] [(6, 8), (9, 10)]\n",
      "2023-06-21 17:16:33,220 INFO sqlalchemy.engine.Engine COMMIT\n"
     ]
    }
   ],
   "source": [
    "with engine.begin() as conn:\n",
    "    conn.execute(\n",
    "        text(\"INSERT INTO some_table (x, y) VALUES(:x, :y)\"),\n",
    "        [{\"x\": 6, \"y\": 8}, {\"x\": 9, \"y\": 10}],\n",
    "    )"
   ]
  },
  {
   "cell_type": "code",
   "execution_count": 9,
   "metadata": {},
   "outputs": [
    {
     "name": "stdout",
     "output_type": "stream",
     "text": [
      "2023-06-21 16:28:33,831 INFO sqlalchemy.engine.Engine BEGIN (implicit)\n",
      "2023-06-21 16:28:33,832 INFO sqlalchemy.engine.Engine SELECT x, y FROM some_table\n",
      "2023-06-21 16:28:33,832 INFO sqlalchemy.engine.Engine [cached since 21.18s ago] ()\n",
      "x: 1, y: 1\n",
      "x: 2, y: 4\n",
      "x: 6, y: 8\n",
      "x: 9, y: 10\n",
      "2023-06-21 16:28:33,833 INFO sqlalchemy.engine.Engine ROLLBACK\n"
     ]
    }
   ],
   "source": [
    "with engine.connect() as conn:\n",
    "    result = conn.execute(text(\"SELECT x, y FROM some_table\"))\n",
    "    for row in result:\n",
    "        print(f\"x: {row.x}, y: {row.y}\")"
   ]
  },
  {
   "cell_type": "code",
   "execution_count": 12,
   "metadata": {},
   "outputs": [
    {
     "name": "stdout",
     "output_type": "stream",
     "text": [
      "2023-06-21 17:17:28,639 INFO sqlalchemy.engine.Engine BEGIN (implicit)\n",
      "2023-06-21 17:17:28,640 INFO sqlalchemy.engine.Engine SELECT x, y FROM some_table where y > ?\n",
      "2023-06-21 17:17:28,640 INFO sqlalchemy.engine.Engine [generated in 0.00146s] (2,)\n",
      "x: 2, y: 4\n",
      "x: 6, y: 8\n",
      "x: 9, y: 10\n",
      "x: 6, y: 8\n",
      "x: 9, y: 10\n",
      "2023-06-21 17:17:28,641 INFO sqlalchemy.engine.Engine ROLLBACK\n"
     ]
    }
   ],
   "source": [
    "with engine.connect() as conn:\n",
    "    result = conn.execute(text(\"SELECT x, y FROM some_table where y > :y\"), {\"y\": 2})\n",
    "    for row in result:\n",
    "        print(f\"x: {row.x}, y: {row.y}\")"
   ]
  },
  {
   "cell_type": "code",
   "execution_count": null,
   "metadata": {},
   "outputs": [
    {
     "name": "stdout",
     "output_type": "stream",
     "text": [
      "2023-06-21 16:28:33,831 INFO sqlalchemy.engine.Engine BEGIN (implicit)\n",
      "2023-06-21 16:28:33,832 INFO sqlalchemy.engine.Engine SELECT x, y FROM some_table\n",
      "2023-06-21 16:28:33,832 INFO sqlalchemy.engine.Engine [cached since 21.18s ago] ()\n",
      "x: 1, y: 1\n",
      "x: 2, y: 4\n",
      "x: 6, y: 8\n",
      "x: 9, y: 10\n",
      "2023-06-21 16:28:33,833 INFO sqlalchemy.engine.Engine ROLLBACK\n"
     ]
    }
   ],
   "source": [
    "from sqlalchemy import Session\n",
    "with Session(engine.connect()) as sess:\n",
    "    result = sess.execute(\n",
    "        text(\"UPDATE some_table SET y=:y WHERE x=:x\"),\n",
    "        [{\"x\": 9, \"y\": 11}, {\"x\": 13, \"y\": 15}]\n",
    "    )\n",
    "    for row in result:\n",
    "        print(f\"x: {row.x}, y: {row.y}\")"
   ]
  }
 ],
 "metadata": {
  "kernelspec": {
   "display_name": "base",
   "language": "python",
   "name": "python3"
  },
  "language_info": {
   "codemirror_mode": {
    "name": "ipython",
    "version": 3
   },
   "file_extension": ".py",
   "mimetype": "text/x-python",
   "name": "python",
   "nbconvert_exporter": "python",
   "pygments_lexer": "ipython3",
   "version": "3.9.13"
  },
  "orig_nbformat": 4
 },
 "nbformat": 4,
 "nbformat_minor": 2
}
